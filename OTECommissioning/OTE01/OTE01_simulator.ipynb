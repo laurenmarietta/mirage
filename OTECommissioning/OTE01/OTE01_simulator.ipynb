{
 "cells": [
  {
   "cell_type": "code",
   "execution_count": null,
   "metadata": {},
   "outputs": [],
   "source": [
    "import warnings"
   ]
  },
  {
   "cell_type": "markdown",
   "metadata": {},
   "source": [
    "# OTE-01: Initial Image Mosaic"
   ]
  },
  {
   "cell_type": "code",
   "execution_count": null,
   "metadata": {},
   "outputs": [],
   "source": [
    "# Standard Library Imports\n",
    "import os\n",
    "import re\n",
    "import time\n",
    "import multiprocessing\n",
    "\n",
    "# Third Party Imports\n",
    "import pprint\n",
    "from glob import glob\n",
    "import numpy as np\n",
    "import webbpsf\n",
    "from astropy.io import fits\n",
    "from astropy.io import ascii as asc\n",
    "import matplotlib.pyplot as plt\n",
    "\n",
    "# Local Imports (from nircam_simulator package)\n",
    "from mirage import imaging_simulator\n",
    "from mirage.seed_image import catalog_seed_image\n",
    "from mirage.dark import dark_prep\n",
    "from mirage.ramp_generator import obs_generator\n",
    "from mirage.apt import apt_inputs\n",
    "from mirage.yaml import yaml_generator, write_observationlist\n",
    "from mirage.catalogs import get_catalog\n",
    "from mirage.psf import psf_library\n",
    "\n",
    "# View matplotlib plots inline\n",
    "%matplotlib inline"
   ]
  },
  {
   "cell_type": "markdown",
   "metadata": {},
   "source": [
    "### Define location of input and output files"
   ]
  },
  {
   "cell_type": "code",
   "execution_count": null,
   "metadata": {},
   "outputs": [],
   "source": [
    "# Where the pointing and XML file for this particular OTE CAR are located\n",
    "ote_dir = '/user/lchambers/OTECommSims/OTE01_reducedmosaic/'\n",
    "\n",
    "# Where the output FITS files will be saved to\n",
    "library_root_dir = '/user/lchambers/OTECommSims/test_library_output/'"
   ]
  },
  {
   "cell_type": "code",
   "execution_count": null,
   "metadata": {},
   "outputs": [],
   "source": [
    "prop_id = 1134\n",
    "\n",
    "# Change if you named your files differently.\n",
    "root = 'OTE01-{}-reduced_mosaic'.format(prop_id)\n",
    "\n",
    "pointing_file = os.path.join(ote_dir, '{}.pointing'.format(root))\n",
    "xml_file = os.path.join(ote_dir, '{}.xml'.format(root))"
   ]
  },
  {
   "cell_type": "markdown",
   "metadata": {},
   "source": [
    "---\n",
    "# First, generate PSF library files"
   ]
  },
  {
   "cell_type": "markdown",
   "metadata": {},
   "source": [
    "### Get the source catalogs"
   ]
  },
  {
   "cell_type": "code",
   "execution_count": null,
   "metadata": {},
   "outputs": [],
   "source": [
    "# Get SW and LW catalogs\n",
    "cats = get_catalog.get_all_catalogs(pointing_file, prop_id)\n",
    "target_coords, catalog_filenames_sw, catalog_filenames_lw = cats"
   ]
  },
  {
   "cell_type": "markdown",
   "metadata": {},
   "source": [
    "### Get the observation/visit information from the APT files"
   ]
  },
  {
   "cell_type": "code",
   "execution_count": null,
   "metadata": {},
   "outputs": [],
   "source": [
    "# Get the information from the pointing file\n",
    "apt_prop = apt_inputs.AptInput()\n",
    "pointing_tab = apt_prop.get_pointing_info(pointing_file, '1140')\n",
    "n_exposures = len(pointing_tab['visit_id'])"
   ]
  },
  {
   "cell_type": "code",
   "execution_count": null,
   "metadata": {},
   "outputs": [],
   "source": [
    "# Create dictionary that mirrors the program structure\n",
    "program_structure = {}\n",
    "for i in range(n_exposures):\n",
    "    obs_num = pointing_tab['obs_num'][i]\n",
    "    visit_num = pointing_tab['visit_num'][i]\n",
    "    activity_id = pointing_tab['act_id'][i]\n",
    "    \n",
    "    obs_key = 'Observation{}'.format(obs_num)\n",
    "    visit_key = 'Visit{}'.format(visit_num)\n",
    "    \n",
    "    program_structure.setdefault(obs_key, {})\n",
    "    visit_dict = program_structure[obs_key].setdefault(visit_key, []).append('Activity{}'.format(activity_id))                                                                      \n",
    "    \n",
    "pprint.pprint(program_structure)  "
   ]
  },
  {
   "cell_type": "code",
   "execution_count": null,
   "metadata": {},
   "outputs": [],
   "source": [
    "# Create directory structure based on dictionary\n",
    "\n",
    "psf_paths = []\n",
    "program_dir = os.path.join(library_root_dir, root)\n",
    "for observation in program_structure.keys():\n",
    "    for visit in program_structure[observation].keys():\n",
    "        for activity in program_structure[observation][visit]:\n",
    "            activity_dir = os.path.join(program_dir, observation, visit, activity)\n",
    "            if not os.path.exists(activity_dir):\n",
    "                os.makedirs(activity_dir)\n",
    "            psf_paths.append(activity_dir)"
   ]
  },
  {
   "cell_type": "markdown",
   "metadata": {},
   "source": [
    "## Generate the PSF array"
   ]
  },
  {
   "cell_type": "code",
   "execution_count": null,
   "metadata": {},
   "outputs": [],
   "source": [
    "nc = webbpsf.NIRCam()\n",
    "nc, ote = webbpsf.enable_adjustable_ote(nc)\n",
    "\n",
    "# Add random pistons\n",
    "random_pistons = np.random.randn(18)*5000 # massive ~cm errors (50000 micron = 5e-2 m)\n",
    "for i, seg in enumerate(ote.segnames[0:18]):  # don't piston \"segment 19\" the SM\n",
    "    ote.move_seg_local(seg, piston=random_pistons[i])\n",
    "    \n",
    "# # Just show one segment\n",
    "# pupil = webbpsf.webbpsf_core.one_segment_pupil('A3')\n",
    "# ote.amplitude = pupil[0].data"
   ]
  },
  {
   "cell_type": "code",
   "execution_count": null,
   "metadata": {},
   "outputs": [],
   "source": [
    "ote01_psf = nc.calc_psf(monochromatic=2e-6, oversample=1, fov_pixels=2048, display=True)"
   ]
  },
  {
   "cell_type": "code",
   "execution_count": null,
   "metadata": {},
   "outputs": [],
   "source": [
    "webbpsf.display_psf(ote01_psf, vmin=1e-10, vmax=1e-5)"
   ]
  },
  {
   "cell_type": "code",
   "execution_count": null,
   "metadata": {},
   "outputs": [],
   "source": []
  },
  {
   "cell_type": "code",
   "execution_count": null,
   "metadata": {},
   "outputs": [],
   "source": [
    "# Create observation table file from APT files\n",
    "observationlist_file = os.path.join(os.getcwd(), ote_dir, root + '_observationlist.yaml')\n",
    "write_observationlist.write_yaml(xml_file, pointing_file, observationlist_file, \n",
    "                                 ps_cat_sw=catalog_filenames_sw, ps_cat_lw=catalog_filenames_lw)"
   ]
  },
  {
   "cell_type": "code",
   "execution_count": null,
   "metadata": {},
   "outputs": [],
   "source": [
    "# Create a series of data simulator input yaml files from APT files\n",
    "yam = yaml_generator.SimInput()\n",
    "\n",
    "yam.input_xml = xml_file\n",
    "yam.pointing_file = pointing_file\n",
    "siaf_file = os.path.expandvars('$MIRAGE_DATA/nircam/reference_files/SIAF/NIRCam_SIAF_2018-01-08.csv')\n",
    "yam.siaf = siaf_file\n",
    "yam.output_dir = ote_dir #os.path.join(os.getcwd(), ote_dir)\n",
    "yam.simdata_output_dir = ote_dir #os.path.join(os.getcwd(), ote_dir)\n",
    "yam.observation_table = observationlist_file\n",
    "\n",
    "yam.use_JWST_pipeline = False # changed to False\n",
    "yam.use_linearized_darks = True # changed to True\n",
    "yam.datatype = 'linear'\n",
    "\n",
    "yam.reffile_setup()\n",
    "yam.create_inputs()"
   ]
  },
  {
   "cell_type": "code",
   "execution_count": null,
   "metadata": {},
   "outputs": [],
   "source": [
    "# Print information about the yaml files that were generated.\n",
    "yfiles = glob(os.path.join(ote_dir, 'jw*yaml'))\n",
    "\n",
    "obs_numbers = [f.split('/')[-1].split('_')[0] for f in yfiles]\n",
    "all_obs_numbers = list(set(obs_numbers))\n",
    "all_obs_numbers.sort()\n",
    "\n",
    "n_obs = len(set([int(number[9:11]) for number in all_obs_numbers]))\n",
    "\n",
    "print('Found {} yaml files.'.format(len(obs_numbers)))\n",
    "print('({} exposures across {} observations)'.format(len(all_obs_numbers), n_obs))\n",
    "# pprint.pprint(all_obs_numbers)"
   ]
  },
  {
   "cell_type": "code",
   "execution_count": null,
   "metadata": {},
   "outputs": [],
   "source": [
    "# Get list of YAML files for observation 1 (all 10 detectors)\n",
    "obs1_visit1_files = glob(os.path.join(ote_dir, 'jw01134001*yaml'))\n",
    "print('{} yaml files found in program APT 1134 Observation 1'.format(len(obs1_visit1_files)))"
   ]
  },
  {
   "cell_type": "code",
   "execution_count": null,
   "metadata": {},
   "outputs": [],
   "source": [
    "with fits.open(obs1_fits_files[0]) as hdu:\n",
    "    hdu.info()"
   ]
  },
  {
   "cell_type": "code",
   "execution_count": null,
   "metadata": {
    "scrolled": false
   },
   "outputs": [],
   "source": [
    "# Generate \"mosaic\" from images\n",
    "obs1_fits_files = glob('/user/lchambers/OTECommSims/OTE01_reducedmosaic/jw*linear.fits')\n",
    "\n",
    "for f in sorted(obs1_fits_files):\n",
    "    print(f.split('/')[-1])\n",
    "    with fits.open(f) as hdu:\n",
    "        print(hdu[0].header['TARG_RA'])\n",
    "        print(hdu[0].header['RA_V1'])\n",
    "        print(hdu[0].header['XOFFSET'], hdu[0].header['YOFFSET'])\n",
    "        print()"
   ]
  },
  {
   "cell_type": "markdown",
   "metadata": {},
   "source": [
    "---\n",
    "# Latest version of script:\n",
    "```python\n",
    "import datetime\n",
    "\n",
    "from astropy.io import fits\n",
    "import webbpsf\n",
    "import numpy as np\n",
    "\n",
    "# Generate a PSF with a perturbed OTE according to the expected deployment tolerances.\n",
    "# Deployment tolerances taken from JWST WFS&C Commissioning and Operations Plan (OTE-24):\n",
    "# D36168 / 2299462 Rev C Page 10\n",
    "\n",
    "nc = webbpsf.NIRCam()\n",
    "nc, ote = webbpsf.enable_adjustable_ote(nc)\n",
    "\n",
    "# 1. Generate the OPD\n",
    "# ------------------------------------------------------------------------------\n",
    "\n",
    "# *** QUESTION: Do I want to pull these random values from a normal distribution? ***\n",
    "\n",
    "\n",
    "# Add SM moves\n",
    "random_sm_piston = np.random.random(1) * 5000 - 2500  # microns\n",
    "random_sm_tilt = np.random.random(2) * 2600 - 1300  # microradians\n",
    "random_sm_decenter = np.random.random(2) * 5000 - 2500  # microns\n",
    "\n",
    "ote.move_sm_local(piston=random_sm_piston, xtilt=random_sm_tilt[0],\n",
    "                  ytilt=random_sm_tilt[1], xtrans=random_sm_decenter[0],\n",
    "                  ytrans=random_sm_decenter[1])\n",
    "\n",
    "# Add PMSA (segment) moves\n",
    "random_pm_piston = np.random.random(18) * 3000 - 1500  # microns\n",
    "random_pm_tilt = np.random.random((18, 2)) * 2200 - 1100  # microradians\n",
    "random_pm_decenter = np.random.random((18, 2)) * 2600 - 1300  # microns\n",
    "random_pm_roc = np.random.random(18) * 302 - 151  # microns\n",
    "random_pm_clocking = np.random.random(18) * 2400 - 1200  # microradians\n",
    "\n",
    "global_pm_piston = np.random.random(1) * 1400 - 700  # microns\n",
    "global_pm_tilt = np.random.random(2) * 380 - 190  # microradians\n",
    "global_pm_decenter = np.random.random(2) * 400 - 200  # microns\n",
    "global_pm_clocking = np.random.random(1) * 300 - 150  # microradians\n",
    "\n",
    "for i, seg in enumerate(ote.segnames[0:18]):\n",
    "    ote.move_seg_local(seg,\n",
    "                       piston=random_pm_piston[i] + global_pm_piston,\n",
    "                       xtilt=random_pm_tilt[i][0] + global_pm_tilt[0],\n",
    "                       ytilt=random_pm_tilt[i][1] + global_pm_tilt[1],\n",
    "                       xtrans=random_pm_decenter[i][0] + global_pm_decenter[0],\n",
    "                       ytrans=random_pm_decenter[i][1] + global_pm_decenter[1],\n",
    "                       roc=random_pm_roc[i],\n",
    "                       clocking=random_pm_clocking[i] + global_pm_clocking)\n",
    "\n",
    "# Save the OPD as a fits file\n",
    "now = datetime.datetime.now()\n",
    "ote_filename = \"{:2d}{:2d}{:2d}-{:2d}{:2d}{:2d}-OTE01_perturbedOTE.fits\".format(\n",
    "    now.year, now.month, now.day, now.hour, now.minute, now.second\n",
    ")\n",
    "hdulist = fits.HDUList(hdus=ote.as_fits())\n",
    "hdulist.writeto(ote_filename, output_verify='ignore')\n",
    "print('Save perturbed OTE to {}'.format(ote_filename))\n",
    "\n",
    "# 2. Generate the PSF for entire OTE pupil\n",
    "# ------------------------------------------------------------------------------\n",
    "\n",
    "# Calculate the PSF over 10 x 10 NIRCam fields of view (oy vey)\n",
    "# Simulating the \"Central\" observation from APT Program 1134\n",
    "now = datetime.datetime.now()\n",
    "psf_filename = \"{:2d}{:2d}{:2d}-{:2d}{:2d}{:2d}-OTE01_PSF.fits\".format(\n",
    "    now.year, now.month, now.day, now.hour, now.minute, now.second\n",
    ")\n",
    "fov_pixels = 2048 * 10\n",
    "nc.calc_psf(nlambda=30, oversample=1, fov_pixels=fov_pixels, add_distortion=False,\n",
    "            outfile=psf_filename)\n",
    "print('Done generating the PSF!! Oh my goodness!!!')\n",
    "\n",
    "# 3. Generate the PSF for a single segment pupil... 18 times\n",
    "# ------------------------------------------------------------------------------\n",
    "\n",
    "# Then, once all that is done, generate the same thing... for all 18 segments.\n",
    "# Oy vey x 18\n",
    "for i_segment in np.arange(1, 19):\n",
    "    # Restrict the pupil to just be one segment\n",
    "    pupil = webbpsf.webbpsf_core.one_segment_pupil(i_segment)\n",
    "    ote.amplitude = pupil[0].data\n",
    "\n",
    "    # Calculate the PSF over 10 x 10 NIRCam fields of view (oy vey)\n",
    "    # Simulating the \"Central\" observation from APT Program 1134\n",
    "    now = datetime.datetime.now()\n",
    "    psf_filename = \"{:2d}{:2d}{:2d}-{:2d}{:2d}{:2d}-OTE01_segment{}_PSF.fits\".format(\n",
    "        now.year, now.month, now.day, now.hour, now.minute, now.second, i_segment\n",
    "    )\n",
    "    fov_pixels = 2048 * 10\n",
    "    nc.calc_psf(nlambda=30, oversample=1, fov_pixels=fov_pixels, add_distortion=False,\n",
    "                outfile=psf_filename)\n",
    "    print('Done generating the PSF for the {}th segment!! Truly a miracle.'.format(i_segment))\n",
    "\n",
    "print('You will never get here, but I finished. Tada!')\n",
    "```"
   ]
  }
 ],
 "metadata": {
  "kernelspec": {
   "display_name": "Python 3",
   "language": "python",
   "name": "python3"
  },
  "language_info": {
   "codemirror_mode": {
    "name": "ipython",
    "version": 3
   },
   "file_extension": ".py",
   "mimetype": "text/x-python",
   "name": "python",
   "nbconvert_exporter": "python",
   "pygments_lexer": "ipython3",
   "version": "3.6.6"
  }
 },
 "nbformat": 4,
 "nbformat_minor": 2
}
