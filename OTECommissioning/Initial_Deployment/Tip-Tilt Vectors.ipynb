{
 "cells": [
  {
   "cell_type": "code",
   "execution_count": null,
   "metadata": {},
   "outputs": [],
   "source": [
    "import datetime\n",
    "import warnings\n",
    "from astropy.io import fits\n",
    "from astropy.io import ascii as asc\n",
    "import webbpsf\n",
    "import numpy as np\n",
    "import pprint\n",
    "import photutils\n",
    "from matplotlib.colors import LogNorm\n",
    "import pysiaf\n",
    "import poppy\n",
    "import scipy\n",
    "import multiprocessing\n",
    "import yaml\n",
    "\n",
    "from mirage.seed_image import catalog_seed_image\n",
    "%pylab inline"
   ]
  },
  {
   "cell_type": "markdown",
   "metadata": {},
   "source": [
    "### Goal: Translate the tip/tilt from a WebbPSF simulation into a pixel vector "
   ]
  },
  {
   "cell_type": "code",
   "execution_count": null,
   "metadata": {
    "scrolled": false
   },
   "outputs": [],
   "source": [
    "nc = webbpsf.NIRCam()\n",
    "nc, ote = webbpsf.enable_adjustable_ote(nc)\n",
    "\n",
    "plt.imshow(ote.opd)\n",
    "plt.show()\n",
    "ote.print_state()"
   ]
  },
  {
   "cell_type": "code",
   "execution_count": null,
   "metadata": {},
   "outputs": [],
   "source": [
    "psf = nc.calc_psf(nlambda=30, oversample=1, fov_pixels=1024, add_distortion=False)\n",
    "webbpsf.display_psf(psf, vmin=1e-8, vmax=1e-5)"
   ]
  },
  {
   "cell_type": "code",
   "execution_count": null,
   "metadata": {},
   "outputs": [],
   "source": [
    "# Add some tilt\n",
    "ote.reset()\n",
    "ote.move_seg_local('A4', xtilt=-30, ytilt=0)\n",
    "ote.print_state()\n",
    "\n",
    "psf_tilted = nc.calc_psf(nlambda=30, oversample=1, fov_pixels=1024, add_distortion=False)\n",
    "webbpsf.display_psf(psf_tilted, vmin=1e-8, vmax=1e-5)"
   ]
  },
  {
   "cell_type": "code",
   "execution_count": null,
   "metadata": {},
   "outputs": [],
   "source": [
    "# Add some tilt and piston?\n",
    "ote.reset()\n",
    "ote.move_seg_local('A1', xtilt=20, ytilt=10, piston=100)\n",
    "ote.print_state()\n",
    "\n",
    "psf_tilted_pistoned = nc.calc_psf(nlambda=30, oversample=1, fov_pixels=1024, add_distortion=False)\n",
    "webbpsf.display_psf(psf_tilted_pistoned, vmin=1e-8, vmax=1e-5)\n",
    "\n",
    "sources = photutils.find_peaks(psf_tilted_pistoned[1].data, 1e-4, box_size=50, subpixel=True)\n",
    "print(sources)\n",
    "\n",
    "# So it looks like the piston only has an effect on the order of ~10 pixels?"
   ]
  },
  {
   "cell_type": "code",
   "execution_count": null,
   "metadata": {},
   "outputs": [],
   "source": [
    "psf_tilted.info()"
   ]
  },
  {
   "cell_type": "code",
   "execution_count": null,
   "metadata": {},
   "outputs": [],
   "source": [
    "psf_data = psf_tilted[1].data"
   ]
  },
  {
   "cell_type": "code",
   "execution_count": null,
   "metadata": {},
   "outputs": [],
   "source": [
    "# Find the location of the two PSFs here\n",
    "\n",
    "sources = photutils.find_peaks(psf_data,1e-4, box_size=50, subpixel=True)\n",
    "print(sources)\n",
    "\n",
    "im = plt.imshow(psf_data, norm=LogNorm(), clim=(1e-8, 1e-4))\n",
    "plt.scatter(sources['x_centroid'], sources['y_centroid'], color='r', marker='+')\n",
    "plt.colorbar(im)\n",
    "plt.show()"
   ]
  },
  {
   "cell_type": "code",
   "execution_count": null,
   "metadata": {},
   "outputs": [],
   "source": [
    "x_pix_distance = sources['x_centroid'][1] - sources['x_centroid'][0]\n",
    "y_pix_distance = sources['y_centroid'][1] - sources['y_centroid'][0]\n",
    "print(x_pix_distance, y_pix_distance)\n",
    "print(x_pix_distance/10, y_pix_distance/20)"
   ]
  },
  {
   "cell_type": "markdown",
   "metadata": {},
   "source": [
    "## Quantify the relation between tilt and displacement"
   ]
  },
  {
   "cell_type": "code",
   "execution_count": null,
   "metadata": {
    "scrolled": true
   },
   "outputs": [],
   "source": [
    "# Collect information on how the tilt-to-displacement ratio changes over the detector\n",
    "random_tilts = np.random.random((20, 2)) * 60 - 30\n",
    "\n",
    "results = []\n",
    "for i, (x_tilt, y_tilt) in enumerate(random_tilts):\n",
    "    ote.reset()\n",
    "    ote.move_seg_local('C1', xtilt=x_tilt, ytilt=y_tilt)\n",
    "    psf = nc.calc_psf(nlambda=30, oversample=1, fov_pixels=1024, add_distortion=False)\n",
    "    psf_data = psf[1].data\n",
    "    sources = photutils.find_peaks(psf_data, 1e-4, box_size=50, subpixel=True)\n",
    "    \n",
    "    im = plt.imshow(psf_data, norm=LogNorm(), clim=(1e-8, 1e-4))\n",
    "    plt.scatter(sources['x_centroid'], sources['y_centroid'], color='r', marker='+')\n",
    "    plt.colorbar(im)\n",
    "    plt.show()\n",
    "    \n",
    "    results.append([x_tilt, y_tilt, sources['x_centroid'], sources['y_centroid']])\n",
    "    print(x_tilt, y_tilt)\n",
    "    print('Completed {}/{} calculations'.format(i + 1, len(random_tilts)))\n",
    "    \n",
    "print(results)"
   ]
  },
  {
   "cell_type": "code",
   "execution_count": null,
   "metadata": {},
   "outputs": [],
   "source": [
    "def _convert_control_to_global(segment, xtilt, ytilt):\n",
    "    \"\"\"Convert vectors coordinates in the local segment control\n",
    "    coordinate system to NIRCam detector X and Y coordinates.\n",
    "    At least proportionally.\"\"\"\n",
    "    control_xaxis_rotations = {\n",
    "        'A1': 180, 'A2': 120, 'A3': 60, 'A4': 0,'A5': -60, \n",
    "        'A6': -120, 'B1': 0, 'C1': 60, 'B2': -60, 'C2': 0, \n",
    "        'B3': -120, 'C3': -60, 'B4': -180, 'C4': -120, \n",
    "        'B5': -240, 'C5': -180, 'B6': -300, 'C6': -240\n",
    "    }\n",
    "\n",
    "    x_rot = control_xaxis_rotations[segment[:2]]  # degrees\n",
    "    x_rot_rad = x_rot * np.pi / 180 # radians\n",
    "    print('Rotating by {} deg ({} rad) to account for segment {}'.format(x_rot, x_rot_rad, segment))\n",
    "    \n",
    "    y_det = (xtilt * np.cos(x_rot_rad)) - (ytilt * np.sin(x_rot_rad))\n",
    "    x_det = (xtilt * np.sin(x_rot_rad)) + (ytilt * np.cos(x_rot_rad))\n",
    "    \n",
    "    return x_det, y_det"
   ]
  },
  {
   "cell_type": "code",
   "execution_count": null,
   "metadata": {},
   "outputs": [],
   "source": [
    "tilt_onto_x = [abs(_convert_control_to_global('C1', x_tilt, y_tilt)[0]) for x_tilt, y_tilt, _, _ in results]\n",
    "x_displacement = [abs(x_centroids[1] - x_centroids[0]) for _, _, x_centroids, _ in results]\n",
    "\n",
    "tilt_onto_y = [abs(_convert_control_to_global('C1', x_tilt, y_tilt)[1]) for x_tilt, y_tilt, _, _ in results]\n",
    "y_displacement = [abs(y_centroids[1] - y_centroids[0]) for _, _, _, y_centroids in results]\n",
    "\n",
    "fig, [ax1, ax2] = plt.subplots (1, 2, figsize=(12, 5))\n",
    "x = np.linspace(0, 35, 10)\n",
    "ax1.scatter(tilt_onto_x, x_displacement)\n",
    "ax1.plot(x, x * x_slope + x_intercept)\n",
    "ax1.set_title('X Conversion')\n",
    "ax1.set_xlabel('|Tilt onto X| (microns)')\n",
    "ax1.set_ylabel('X Displacement (pixels)')\n",
    "\n",
    "ax2.scatter(tilt_onto_y, y_displacement)\n",
    "ax2.plot(x, x * y_slope + y_intercept)\n",
    "ax2.set_title('Y Conversion')\n",
    "ax2.set_xlabel('|Tilt onto Y| (microns)')\n",
    "ax2.set_ylabel('Y Displacement (pixels)')\n",
    "\n",
    "plt.show()\n"
   ]
  },
  {
   "cell_type": "code",
   "execution_count": null,
   "metadata": {},
   "outputs": [],
   "source": [
    "def generate_random_tilts(i, plot=False):\n",
    "    x_tilt, y_tilt = random_tilts[i]\n",
    "    \n",
    "    nc = webbpsf.NIRCam()\n",
    "    nc, ote = webbpsf.enable_adjustable_ote(nc)\n",
    "    ote.move_seg_local(segment , xtilt=x_tilt, ytilt=y_tilt)\n",
    "    psf = nc.calc_psf(nlambda=30, oversample=1, fov_pixels=1024, add_distortion=False)\n",
    "    psf_data = psf[1].data\n",
    "    sources = photutils.find_peaks(psf_data, 1e-4, box_size=50, subpixel=True)\n",
    "\n",
    "    if plot:\n",
    "        im = plt.imshow(psf_data, norm=LogNorm(), clim=(1e-8, 1e-4))\n",
    "        plt.scatter(sources['x_centroid'], sources['y_centroid'], color='r', marker='+')\n",
    "        plt.colorbar(im)\n",
    "        plt.show()\n",
    "\n",
    "    parameters = [x_tilt, y_tilt, sources['x_centroid'], sources['y_centroid']]\n",
    "    print('    Completed {}/{} simulations'.format(i + 1, len(random_tilts)))\n",
    "    \n",
    "    return parameters\n",
    "    "
   ]
  },
  {
   "cell_type": "code",
   "execution_count": null,
   "metadata": {
    "scrolled": true
   },
   "outputs": [],
   "source": [
    "# Start time: 8:57\n",
    "# Calculate the slope and intercept for each segment\n",
    "tilt_to_displacement_params = {}\n",
    "\n",
    "for segment in webbpsf.constants.SEGNAMES_WSS:\n",
    "    segment = segment[:2]\n",
    "    \n",
    "    random_tilts = np.random.random((20, 2)) * 60 - 30\n",
    "    \n",
    "    print('Calculating segment {}'.format(segment))\n",
    "\n",
    "    # Use multiprocessing to generate all the PSFs\n",
    "    p = multiprocessing.Pool(6)\n",
    "    results = p.map(generate_random_tilts, range(20))\n",
    "    \n",
    "    if len(results) != 20:\n",
    "        print('Results is only {} long'.format(len(results)))\n",
    "        print(results)\n",
    "        raise ValueError('Something funky happened with the multiprocessing.')\n",
    "    \n",
    "    tilt_onto_y = [abs(_convert_control_to_global(segment, x_tilt, y_tilt)[1]) for x_tilt, y_tilt, _, _ in results]\n",
    "    y_displacement = [abs(y_centroids[1] - y_centroids[0]) for _, _, _, y_centroids in results]\n",
    "    tilt_onto_x = [abs(_convert_control_to_global(segment, x_tilt, y_tilt)[0]) for x_tilt, y_tilt, _, _ in results]\n",
    "    x_displacement = [abs(x_centroids[1] - x_centroids[0]) for _, _, x_centroids, _ in results]\n",
    "    \n",
    "    x_slope, x_intercept, _, _, _ = scipy.stats.linregress(tilt_onto_x, x_displacement)\n",
    "    y_slope, y_intercept, _, _, _ = scipy.stats.linregress(tilt_onto_y, y_displacement)\n",
    "    print('    X slope and intercept:', x_slope, x_intercept)\n",
    "    print('    Y slope and intercept:', y_slope, y_intercept)\n",
    "    \n",
    "    fig, [ax1, ax2] = plt.subplots (1, 2, figsize=(12, 5))\n",
    "    x = np.linspace(0, 35, 10)\n",
    "    ax1.scatter(tilt_onto_x, x_displacement)\n",
    "    ax1.plot(x, x * x_slope + x_intercept)\n",
    "    ax1.set_title('X Conversion')\n",
    "    ax1.set_xlabel('|Tilt onto X| (microns)')\n",
    "    ax1.set_ylabel('X Displacement (pixels)')\n",
    "\n",
    "    ax2.scatter(tilt_onto_y, y_displacement)\n",
    "    ax2.plot(x, x * y_slope + y_intercept)\n",
    "    ax2.set_title('Y Conversion')\n",
    "    ax2.set_xlabel('|Tilt onto Y| (microns)')\n",
    "    ax2.set_ylabel('Y Displacement (pixels)')\n",
    "\n",
    "    plt.show()\n",
    "    \n",
    "    params = {}\n",
    "    params['x'] = [x_slope, x_intercept]\n",
    "    params['y'] = [y_slope, y_intercept]\n",
    "    tilt_to_displacement_params[segment] = params\n"
   ]
  },
  {
   "cell_type": "code",
   "execution_count": null,
   "metadata": {},
   "outputs": [],
   "source": [
    "def calc_location_after_tilt(segment, xtilt, ytilt):\n",
    "    with open('/user/lchambers/OTECommSims/tilt_conversion_parameters.yaml', 'r') as stream:\n",
    "        d = yaml.load(stream)\n",
    "\n",
    "    all_slopes = []\n",
    "    all_intercepts = []\n",
    "    for _, seg_dict in d.items():\n",
    "        for axis, axis_dict in seg_dict.items():\n",
    "            all_intercepts.append(axis_dict['intercept'])\n",
    "            all_slopes.append(axis_dict['slope'])\n",
    "\n",
    "    slope = np.average(all_slopes)\n",
    "    intercept = np.average(all_intercepts)\n",
    "\n",
    "    print('Slope = {} +/- {}'.format(slope, np.std(all_slopes)))\n",
    "    print('Intercept = {} +/- {}'.format(intercept, np.std(all_intercepts)))\n",
    "    \n",
    "    slope = round(slope, 1)\n",
    "    intercept = round(intercept, 0)\n",
    "    \n",
    "    tilt_onto_x, tilt_onto_y = _convert_control_to_global(segment, xtilt, ytilt)\n",
    "    print('Tilt projected onto V2/V3:', tilt_onto_x, tilt_onto_y)\n",
    "    \n",
    "    x_displacement = tilt_onto_x * slope + intercept\n",
    "    y_displacement = tilt_onto_y * slope + intercept\n",
    "    \n",
    "    return -x_displacement, -y_displacement"
   ]
  },
  {
   "cell_type": "code",
   "execution_count": null,
   "metadata": {},
   "outputs": [],
   "source": [
    "with open('/user/lchambers/OTECommSims/tilt_conversion_parameters.yaml', 'r') as stream:\n",
    "    d = yaml.load(stream)\n",
    "\n",
    "all_slopes = []\n",
    "all_intercepts = []\n",
    "for _, seg_dict in d.items():\n",
    "    for axis, axis_dict in seg_dict.items():\n",
    "        all_intercepts.append(axis_dict['intercept'])\n",
    "        all_slopes.append(axis_dict['slope'])\n",
    "\n",
    "slope = np.average(all_slopes)\n",
    "intercept = np.average(all_intercepts)\n",
    "\n",
    "print(slope, intercept)"
   ]
  },
  {
   "cell_type": "code",
   "execution_count": null,
   "metadata": {},
   "outputs": [],
   "source": [
    "plt.scatter(range(36), all_slopes)\n",
    "plt.axhline(y=slope)"
   ]
  },
  {
   "cell_type": "code",
   "execution_count": null,
   "metadata": {},
   "outputs": [],
   "source": [
    "# TEST!!!!\n",
    "\n",
    "# Add some tilt\n",
    "segment = 'A4'\n",
    "xtilt = 3\n",
    "ytilt = 30\n",
    "ote.reset()\n",
    "ote.move_seg_local(segment, xtilt=xtilt, ytilt=ytilt)\n",
    "# ote.print_state()\n",
    "\n",
    "psf_tilted = nc.calc_psf(nlambda=30, oversample=1, fov_pixels=1024, add_distortion=False)\n",
    "# webbpsf.display_psf(psf_tilted, vmin=1e-8, vmax=1e-5)\n",
    "psf_data = psf_tilted[1].data\n",
    "\n",
    "x_displacement, y_displacement = calc_location_after_tilt(segment, xtilt, ytilt)\n",
    "print(x_displacement, y_displacement)\n",
    "\n",
    "sources = photutils.find_peaks(psf_data, 1e-4, box_size=50, subpixel=True)\n",
    "print(sources['x_centroid', 'y_centroid'])"
   ]
  },
  {
   "cell_type": "code",
   "execution_count": null,
   "metadata": {},
   "outputs": [],
   "source": [
    "im = plt.imshow(psf_data, norm=LogNorm(), clim=(1e-8, 1e-4))\n",
    "# plt.scatter(512, 512, color='blue', marker='*')\n",
    "plt.scatter(512 + x_displacement, 512 + y_displacement, color='r', marker='+')\n",
    "# plt.scatter(512 + y_displacement, 512 - x_displacement, color='r', marker='X')\n",
    "plt.scatter(sources['x_centroid'], sources['y_centroid'], color='grey', marker='+')\n",
    "\n",
    "plt.colorbar(im)\n",
    "plt.show()"
   ]
  },
  {
   "cell_type": "markdown",
   "metadata": {},
   "source": [
    "# Make diagram of OTE with segment labels and coordinate systems"
   ]
  },
  {
   "cell_type": "code",
   "execution_count": null,
   "metadata": {},
   "outputs": [],
   "source": [
    "import matplotlib\n",
    "import numpy as np\n",
    "import poppy\n",
    "import webbpsf"
   ]
  },
  {
   "cell_type": "code",
   "execution_count": null,
   "metadata": {},
   "outputs": [],
   "source": [
    "def get_transmission_no_struts(self, wave):\n",
    "    segpaths = {}\n",
    "#     strutpaths = []\n",
    "    for segname, vertices in self.segdata:\n",
    "        segpaths[segname] = matplotlib.path.Path(vertices)\n",
    "#     for strutname, vertices in self.strutdata:\n",
    "#         strutpaths.append(matplotlib.path.Path(vertices))\n",
    "\n",
    "    y, x = wave.coordinates()\n",
    "    pts = np.asarray([a for a in zip(x.flat, y.flat)])\n",
    "    npix = wave.shape[0]\n",
    "    out = np.zeros((npix, npix))\n",
    "\n",
    "    # paint the segments 1 but leave out the SMSS struts\n",
    "    for segname, p in segpaths.items():\n",
    "        res = p.contains_points(pts)\n",
    "        res.shape = (npix, npix)\n",
    "        out[res] = 1 if not self.label_segments else int(segname.split('-')[1])\n",
    "#     for p in strutpaths:\n",
    "#         res = p.contains_points(pts)\n",
    "#         res.shape = (npix, npix)\n",
    "#         out[res] = 0\n",
    "    return out"
   ]
  },
  {
   "cell_type": "code",
   "execution_count": null,
   "metadata": {},
   "outputs": [],
   "source": [
    "wave = poppy.Wavefront()\n",
    "primary = webbpsf.optics.WebbPrimaryAperture(label_segments=False)\n",
    "pupil = get_transmission_no_struts(primary, wave)"
   ]
  },
  {
   "cell_type": "code",
   "execution_count": null,
   "metadata": {},
   "outputs": [],
   "source": [
    "plt.imshow(pupil)\n",
    "fits.writeto('JWST_pupil_no_struts.fits', pupil)"
   ]
  },
  {
   "cell_type": "code",
   "execution_count": null,
   "metadata": {},
   "outputs": [],
   "source": [
    "def convert_meters_to_pixels(x_meters, y_meters):\n",
    "    \"\"\"Or at least I think it's meters.\"\"\"\n",
    "    x_pixels = x_meters * (1024 / (3.99609375*2)) + 512\n",
    "    y_pixels = y_meters * (1024 / (3.99609375*2)) + 512\n",
    "    \n",
    "    return x_pixels, y_pixels"
   ]
  },
  {
   "cell_type": "code",
   "execution_count": null,
   "metadata": {
    "scrolled": true
   },
   "outputs": [],
   "source": [
    "fig, ax = plt.subplots(1, 1, figsize=(15,15))\n",
    "\n",
    "cmap = plt.cm.YlOrRd\n",
    "cmap.set_under(color='white')\n",
    "ax.imshow(pupil, cmap=cmap, vmin=0.5, vmax=2.2)\n",
    "ax.invert_yaxis()\n",
    "for segment, center in primary.seg_centers.items():\n",
    "    x_center, y_center = convert_meters_to_pixels(*center)\n",
    "    ax.text(x_center, y_center, segment[:2], color='black', \n",
    "            horizontalalignment='center', verticalalignment='center',\n",
    "            fontweight='bold', fontsize=25)\n",
    "    \n",
    "    x_rot = ote._control_xaxis_rotations[segment[:2]] * np.pi / 180\n",
    "    x_x = 100 * np.cos(x_rot)\n",
    "    x_y = 100 * np.sin(x_rot)\n",
    "    y_rot = (ote._control_xaxis_rotations[segment[:2]] + 90) * np.pi / 180\n",
    "    y_x = 100 * np.cos(y_rot)\n",
    "    y_y = 100 * np.sin(y_rot)\n",
    "    \n",
    "    seg_x_axis = ax.quiver([x_center], [y_center], [x_x], [x_y], color=['white'], angles='xy', scale_units='xy', scale=1.5, width=5e-3)\n",
    "    seg_y_axis = ax.quiver([x_center], [y_center], [y_x], [y_y], color=['white'], angles='xy', scale_units='xy', scale=1.5, width=5e-3)\n",
    "    \n",
    "    x_label = ax.text(x_center + 0.7 * x_x, y_center + 0.7 * x_y, 'X', color='black', \n",
    "                        horizontalalignment='center', verticalalignment='center', fontsize=20)\n",
    "    y_label = ax.text(x_center + 0.7 * y_x, y_center + 0.7 * y_y, 'Y', color='black', \n",
    "                        horizontalalignment='center', verticalalignment='center', fontsize=20)\n",
    "    \n",
    "\n",
    "# Add V2/V3 vectors\n",
    "v2 = ax.quiver([512], [512], [100], [0], angles='xy', scale_units='xy', scale=1.7, width=5e-3)\n",
    "v3 = ax.quiver([512], [512], [0], [100], angles='xy', scale_units='xy', scale=1.7, width=5e-3)\n",
    "v2_label = ax.text(512 + 0.7 * 100, 512 + 0.7 * 0, 'V2', color='black', \n",
    "                    horizontalalignment='center', verticalalignment='center', fontsize=20)\n",
    "v3_label = ax.text(512 + 0.7 * 0, 512 + 0.7 * 100, 'V3', color='black', \n",
    "                    horizontalalignment='center', verticalalignment='center', fontsize=20)\n",
    "    \n",
    "    \n",
    "ax.set_xlabel('X [V2]') \n",
    "ax.set_ylabel('Y [V3]')\n",
    "ax.set_xlim(90, 910)\n",
    "ax.set_ylim(50, 950)\n",
    "ax.axis('off')\n",
    "plt.savefig('JWST Segments and Coordinates.png', transparent=True)\n",
    "plt.show()"
   ]
  },
  {
   "cell_type": "markdown",
   "metadata": {},
   "source": [
    "## Figure out how to modify the point source list made in `catalog_seed_image`"
   ]
  },
  {
   "cell_type": "code",
   "execution_count": null,
   "metadata": {},
   "outputs": [],
   "source": [
    "ps_file = '/Users/lchambers/TEL/mirage/mirage/catalogs/2MASS_RA146.88deg_Dec63.25deg.list'\n",
    "gtab = asc.read(ps_file)\n",
    "# Look at the header lines to see if inputs\n",
    "# are in units of pixels or RA, Dec\n",
    "pixel_flag = False\n",
    "try:\n",
    "    if 'position_pixels' in gtab.meta['comments'][0:4]:\n",
    "        pixel_flag = True\n",
    "except:\n",
    "    pass\n",
    "# Check to see if magnitude system is specified\n",
    "# in the comments. If not default to AB mag\n",
    "msys = 'abmag'\n",
    "condition = ('stmag' in gtab.meta['comments'][0:4]) | ('vegamag' in gtab.meta['comments'][0:4])\n",
    "if condition:\n",
    "    msys = [l for l in gtab.meta['comments'][0:4] if 'mag' in l][0]\n",
    "    msys = msys.lower()\n",
    "    \n",
    "lines = gtab"
   ]
  },
  {
   "cell_type": "code",
   "execution_count": null,
   "metadata": {},
   "outputs": [],
   "source": [
    "ra = 146.9190376246782\n",
    "dec = 63.24114957538154"
   ]
  },
  {
   "cell_type": "code",
   "execution_count": null,
   "metadata": {},
   "outputs": [],
   "source": [
    "def shift_sources_by_offset(lines, segment_offset, pixelflag):\n",
    "    print('    Shifting point source locations by pixel offset {}'.format(segment_offset))\n",
    "\n",
    "    shifted_lines = lines.copy()\n",
    "    shifted_lines.remove_rows(np.arange(0, len(shifted_lines)))\n",
    "    \n",
    "    ra = 146.9190376246782\n",
    "    dec = 63.24114957538154\n",
    "\n",
    "    V2ref_arcsec = aperture.V2Ref\n",
    "    V3ref_arcsec = aperture.V3Ref\n",
    "    position_angle = 111.\n",
    "    print('    Position angle = ', position_angle)\n",
    "    attitude_ref = pysiaf.utils.rotations.attitude(\n",
    "        V2ref_arcsec, V3ref_arcsec,  ra, dec, position_angle\n",
    "    )\n",
    "\n",
    "    # Convert X/Y pixels (detector frame) to RA/Dec (sky frame)\n",
    "    x_displacement, y_displacement = segment_offset\n",
    "    for line in lines:\n",
    "        x_or_RA, y_or_Dec = line['x_or_RA', 'y_or_Dec']\n",
    "#         print('original RA/Dec:', x_or_RA, y_or_Dec)\n",
    "        if not pixelflag:\n",
    "            # Convert RA/Dec (sky frame) to X/Y pixels (raw frame)\n",
    "            v2, v3 = pysiaf.utils.rotations.getv2v3(attitude_ref, x_or_RA, y_or_Dec)\n",
    "#             x_or_RA, y_or_Dec = aperture.tel_to_det(v2, v3)\n",
    "#             print('converted to X/Y:',x_or_RA, y_or_Dec)\n",
    "\n",
    "        # Get the appropriate pixel scale from pysiaf\n",
    "        x_pixel_scale = aperture.XSciScale  # arcsec/pixel\n",
    "        y_pixel_scale = aperture.YSciScale  # arcsec/pixel\n",
    "        \n",
    "        # Convert the pixel displacement into angle\n",
    "        x_arcsec = x_displacement * x_pixel_scale  # arcsec\n",
    "        y_arcsec = y_displacement * y_pixel_scale  # arcsec\n",
    "        \n",
    "        v2 -= x_arcsec\n",
    "        v3 += y_arcsec\n",
    "        \n",
    "        \n",
    "#         x = x_or_RA + x_displacement # NRC pixels\n",
    "#         y = y_or_Dec + y_displacement # NRC pixels\n",
    "# #         print('Offset X/Y:', x, y)\n",
    "\n",
    "#         v2, v3 = aperture.det_to_tel(x, y)\n",
    "        ra, dec = pysiaf.utils.rotations.pointing(attitude_ref, v2, v3)\n",
    "#         print('Offset RA/Dec', ra, dec)\n",
    "#         print()\n",
    "\n",
    "        # TODO: need to be smarter about which magnitude to use here\n",
    "        shifted_lines.add_row([ra, dec, line['magnitude']])\n",
    "\n",
    "    return shifted_lines"
   ]
  },
  {
   "cell_type": "code",
   "execution_count": null,
   "metadata": {
    "scrolled": true
   },
   "outputs": [],
   "source": [
    "attitude_ref = pysiaf.utils.rotations.attitude(\n",
    "        aperture.V2Ref, aperture.V3Ref,  ra, dec, 111.\n",
    "    )\n",
    "v2, v3 = pysiaf.utils.rotations.getv2v3(attitude_ref, lines['x_or_RA'], lines['y_or_Dec'])\n",
    "plt.scatter(v2, v3)\n",
    "plt.show()\n",
    "x_or_RA, y_or_Dec = aperture.tel_to_det(v2, v3)\n",
    "plt.scatter(x_or_RA, y_or_Dec)\n",
    "plt.xlim(-16000, 16000)\n",
    "plt.show()\n",
    "\n",
    "# for i in range(len(v2)):\n",
    "#     print(v2[i], v3[i], x_or_RA[i], y_or_Dec[i])\n",
    "plt.scatter(v2, x_or_RA)\n",
    "plt.xlabel('V2')\n",
    "plt.ylabel('X Pixels')\n",
    "plt.show()"
   ]
  },
  {
   "cell_type": "code",
   "execution_count": null,
   "metadata": {
    "scrolled": true
   },
   "outputs": [],
   "source": [
    "shifted_lines = shift_sources_by_offset(lines, (-852.1060000000001, -278.58600000000007), pixel_flag)"
   ]
  },
  {
   "cell_type": "code",
   "execution_count": null,
   "metadata": {
    "scrolled": true
   },
   "outputs": [],
   "source": [
    "plt.scatter(shifted_lines['x_or_RA'], shifted_lines['y_or_Dec'], label='shifted locations')\n",
    "print(lines)\n",
    "print(shifted_lines)"
   ]
  },
  {
   "cell_type": "code",
   "execution_count": null,
   "metadata": {},
   "outputs": [],
   "source": [
    "plt.scatter(shifted_lines['x_or_RA'], shifted_lines['y_or_Dec'], label='shifted locations')\n",
    "plt.scatter(lines['x_or_RA'], lines['y_or_Dec'], label='original locations')\n",
    "plt.scatter(ra, dec, label='target', marker='+')\n",
    "plt.legend()"
   ]
  },
  {
   "cell_type": "code",
   "execution_count": null,
   "metadata": {},
   "outputs": [],
   "source": [
    "siaf = pysiaf.Siaf('NIRCam')\n",
    "aperture = siaf['NRCA3_FULL']\n",
    "\n",
    "aperture.det_to_tel(-100, 350)"
   ]
  },
  {
   "cell_type": "code",
   "execution_count": null,
   "metadata": {
    "scrolled": false
   },
   "outputs": [],
   "source": [
    "cat = catalog_seed_image.Catalog_seed()\n",
    "cat.paramfile = '/Users/lchambers/TEL/mirage/OTECommissioning/OTE01_reducedmosaic/yamls/TEST_jw01134001001_01101_00001_nrca3.yaml'\n",
    "cat.make_seed()"
   ]
  },
  {
   "cell_type": "code",
   "execution_count": null,
   "metadata": {},
   "outputs": [],
   "source": [
    "def show(array,title,min=0,max=1000):\n",
    "    plt.figure(figsize=(12,12))\n",
    "    plt.imshow(array,clim=(min,max))\n",
    "    plt.title(title)\n",
    "    plt.colorbar(fraction=0.046, pad=0.04).set_label('DN$^{-}$/s')\n",
    "    plt.show()"
   ]
  },
  {
   "cell_type": "code",
   "execution_count": null,
   "metadata": {},
   "outputs": [],
   "source": [
    "show(cat.seedimage, 'sdfjlskfjklsdjflsdjf', max=10)\n"
   ]
  },
  {
   "cell_type": "code",
   "execution_count": null,
   "metadata": {},
   "outputs": [],
   "source": []
  }
 ],
 "metadata": {
  "kernelspec": {
   "display_name": "Python 3",
   "language": "python",
   "name": "python3"
  },
  "language_info": {
   "codemirror_mode": {
    "name": "ipython",
    "version": 3
   },
   "file_extension": ".py",
   "mimetype": "text/x-python",
   "name": "python",
   "nbconvert_exporter": "python",
   "pygments_lexer": "ipython3",
   "version": "3.6.6"
  }
 },
 "nbformat": 4,
 "nbformat_minor": 2
}
