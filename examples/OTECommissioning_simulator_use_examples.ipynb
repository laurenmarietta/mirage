{
 "cells": [
  {
   "cell_type": "markdown",
   "metadata": {},
   "source": [
    "# Example Use of MIRAGE to generate OTE Commissioning Images\n",
    "---"
   ]
  },
  {
   "cell_type": "markdown",
   "metadata": {},
   "source": [
    "In this notebook, we will go through the steps to use the MIRAGE (Multi-Instrument Ramp Generator) to simulate NIRCam images from OTE Commissioning."
   ]
  },
  {
   "cell_type": "markdown",
   "metadata": {},
   "source": [
    "There are a number of steps that must be taken to set up the simulator to process commissioning input. Once that setup is complete, however, the simulator is broken up into three basic stages:\n",
    "\n",
    "1. **Creation of a \"seed image\".**<br>\n",
    "    This is generally a noiseless countrate image that contains signal\n",
    "   only from the astronomical sources to be simulated. Currently, the \n",
    "   nircam_simulator package contains code to produce a seed image starting\n",
    "   from object catalogs.\n",
    "   \n",
    "2. **Dark current prep.**<br>\n",
    "    The simualted data will be created by adding the simulated sources\n",
    "   in the seed image to a real NIRCam dark current exposure. This step\n",
    "   converts the dark current exposure to the requested readout pattern\n",
    "   and subarray size requested by the user.\n",
    "   \n",
    "3. **Observation generator.**<br>\n",
    "    This step converts the seed image into an exposure of the requested\n",
    "   readout pattern and subarray size. It also adds cosmic rays and \n",
    "   Poisson noise, as well as other detector effects (IPC, crosstalk, etc).\n",
    "   This exposure is then added to the dark current exposure from step 2."
   ]
  },
  {
   "cell_type": "markdown",
   "metadata": {},
   "source": [
    "<div class=\"alert alert-block alert-warning\">\n",
    "**Note:** <br>\n",
    "You must have installed the `mirage` package before running this notebook. Install it using the following command while in the `mirage` repository (where the `setup.py` file is located):<br><br>\n",
    "\n",
    "```\n",
    "pip install -e .\n",
    "```\n",
    "\n",
    "</div>"
   ]
  },
  {
   "cell_type": "code",
   "execution_count": null,
   "metadata": {},
   "outputs": [],
   "source": [
    "# Standard Library Imports\n",
    "import os\n",
    "import re\n",
    "\n",
    "# Third Party Imports\n",
    "import pprint\n",
    "import shutil\n",
    "import jwxml\n",
    "import yaml\n",
    "import pysiaf\n",
    "from glob import glob\n",
    "import numpy as np\n",
    "# import webbpsf\n",
    "from astropy.io import fits\n",
    "from astropy.io import ascii as asc\n",
    "from astropy.table import Table\n",
    "from astropy import units as u\n",
    "from astropy.coordinates import SkyCoord\n",
    "from astroquery.vizier import Vizier\n",
    "from matplotlib.colors import LogNorm\n",
    "import matplotlib.pyplot as plt\n",
    "\n",
    "# Local Imports (from nircam_simulator package)\n",
    "from mirage import imaging_simulator\n",
    "from mirage.seed_image import catalog_seed_image\n",
    "from mirage.dark import dark_prep\n",
    "from mirage.ramp_generator import obs_generator\n",
    "from mirage.apt import apt_inputs\n",
    "from mirage.yaml import yaml_generator, generate_observationlist\n",
    "from mirage.catalogs import get_catalog\n",
    "\n",
    "# View matplotlib plots inline\n",
    "%matplotlib inline"
   ]
  },
  {
   "cell_type": "code",
   "execution_count": null,
   "metadata": {},
   "outputs": [],
   "source": [
    "# Define the location of this file (the examples/ directory)\n",
    "__location__ = os.getcwd()"
   ]
  },
  {
   "cell_type": "markdown",
   "metadata": {},
   "source": [
    "For this example we will simulate images from OTE-06: Segment Image Array. In this stage of commissioning, the mirrors are being moved to place the 18 segments in a hexagonal image array for the first time.\n",
    "\n",
    "You can load this file in APT by selecting `File > Retrieve from STScI > Retrieve Using Proposal ID` and then entering 1140.\n",
    "(You must be running APT in STScI mode for this retrieval method to be available.)"
   ]
  },
  {
   "cell_type": "markdown",
   "metadata": {},
   "source": [
    "## Export APT files"
   ]
  },
  {
   "cell_type": "markdown",
   "metadata": {},
   "source": [
    "Export the `.pointing` and `.xml` files for proposal 1140 in APT by selecting `File > Export...` and selecting both the xml and pointing file options. Save them in a place you will remember, naming them something descriptive such as `OTE06_1140.pointing`.\n",
    "\n",
    "(Sample versions of both of these files are located within the `examples/` directory.)"
   ]
  },
  {
   "cell_type": "markdown",
   "metadata": {},
   "source": [
    "## Define the location of APT files"
   ]
  },
  {
   "cell_type": "code",
   "execution_count": null,
   "metadata": {},
   "outputs": [],
   "source": [
    "prop_id = 1140\n",
    "\n",
    "# Change if you put your files somewhere else\n",
    "ote_dir = os.path.join(__location__, 'ote_data')\n",
    "\n",
    "# Change if you named your files differently.\n",
    "root = 'OTE06-{}'.format(prop_id)\n",
    "\n",
    "pointing_file = os.path.join(ote_dir, root + '.pointing')\n",
    "xml_file = os.path.join(ote_dir, root + '.xml')"
   ]
  },
  {
   "cell_type": "markdown",
   "metadata": {},
   "source": [
    "## Query online catalogs to generate catalog files of sources in FOV"
   ]
  },
  {
   "cell_type": "markdown",
   "metadata": {},
   "source": [
    "Next, we need to generate catalog files for the sources around the target in this proposal. First we must parse the pointing file to determine the RA and Dec of the target (or targets) that will be observed. Then we will query 2MASS and WISE to get the magnitudes and locations of shortwave and longwave sources, respectively, around the target.\n",
    "\n",
    "All of this can be accomplished with the `get_catalog.get_all_catalogs` function.\n",
    "\n",
    "These catalog files will be written to the `mirage/catalogs/` directory. If files for a given catalog and RA/Dec have already been generated, they will not be regenerated."
   ]
  },
  {
   "cell_type": "markdown",
   "metadata": {},
   "source": [
    "<div class=\"alert alert-block alert-warning\">\n",
    "**Important:** <br>\n",
    "Querying 2MASS and WISE is only appropriate for observations with the F212N and F480M NIRCam filters. If you want to simulate observations that use other filters, you will have to either query different bandpasses or catalogs or perform a photometric conversion on an existing catalog.\n",
    "\n",
    "</div>"
   ]
  },
  {
   "cell_type": "code",
   "execution_count": null,
   "metadata": {},
   "outputs": [],
   "source": [
    "# Get SW and LW catalogs\n",
    "cats = get_catalog.get_all_catalogs(pointing_file, prop_id)\n",
    "target_coords, catalog_filenames_sw, catalog_filenames_lw = cats\n",
    "\n",
    "cat_dict = {'nircam': {'lw': catalog_filenames_lw,\n",
    "                       'sw': catalog_filenames_sw}}"
   ]
  },
  {
   "cell_type": "markdown",
   "metadata": {},
   "source": [
    "# Plot all sources in catalogs"
   ]
  },
  {
   "cell_type": "markdown",
   "metadata": {},
   "source": [
    "Let's see how many sources we're dealing with here."
   ]
  },
  {
   "cell_type": "code",
   "execution_count": null,
   "metadata": {},
   "outputs": [],
   "source": [
    "# Plot all queried sources\n",
    "target_catalog_lw = asc.read(catalog_filenames_lw[0])\n",
    "target_catalog_sw = asc.read(catalog_filenames_sw[0])\n",
    "plt.scatter(target_catalog_lw['x_or_RA'], target_catalog_lw['y_or_Dec'], label = 'WISE Catalog', s=.5, alpha=.5)\n",
    "plt.scatter(target_catalog_sw['x_or_RA'], target_catalog_sw['y_or_Dec'], label = '2MASS Catalog', s=.5, alpha=.5)\n",
    "plt.scatter(target_coords[0].ra.degree, target_coords[0].dec.degree, label='Target', c='r')\n",
    "plt.xlabel('Right Ascension [degrees]')\n",
    "plt.ylabel('Declination [degrees]')\n",
    "plt.legend()\n",
    "plt.show()"
   ]
  },
  {
   "cell_type": "markdown",
   "metadata": {},
   "source": [
    "# Create YAML files from APT files"
   ]
  },
  {
   "cell_type": "markdown",
   "metadata": {},
   "source": [
    "Now we can start the simulation process.\n",
    "\n",
    "First we have to generate an `observationlist.yaml` file from the APT files we exported. This file contains a list of the different observations in the given APT proposal, as well as the filter configurations for each of those observations and the associated catalog files (that we just generated in the previous step).\n",
    "\n",
    "The `observationlist.yaml` file is very important for cases where one observation uses multiple different filters, and thus needs to source multiple different catalog files. In such cases the `yaml` file would need to be generated manually. However, in this example, there is only one filter needed for each observation, and so we can use the `write_observationlist` module to generate a file.\n",
    "\n",
    "You will find the generated file in the directory you defined as `ote_dir`."
   ]
  },
  {
   "cell_type": "markdown",
   "metadata": {},
   "source": [
    "Next, the simulator uses that `observationlist.yaml` to generate a `yaml` file for every single exposure in the proposal.\n",
    "\n",
    "This step can take a while. Once it is done, you will see a ton of (135, to be exact) `yaml` files appear in the `ote_dir`, as well as an exposure table `expand_for_detectors.csv` and an observation table `Observation_table*.xml` that both list every image taken with all used detectors."
   ]
  },
  {
   "cell_type": "code",
   "execution_count": null,
   "metadata": {
    "scrolled": false
   },
   "outputs": [],
   "source": [
    "# Create a series of data simulator input yaml files from APT files\n",
    "# (Within this, create the observation table.)\n",
    "yam = yaml_generator.SimInput(input_xml=xml_file, pointing_file=pointing_file,\n",
    "                              catalogs=cat_dict,\n",
    "                              verbose=True, output_dir=ote_dir, simdata_output_dir=ote_dir)\n",
    "yam.psf_paths = os.path.expandvars('$MIRAGE_DATA/nircam/test_webbpsf_library')\n",
    "yam.create_inputs()"
   ]
  },
  {
   "cell_type": "code",
   "execution_count": null,
   "metadata": {
    "scrolled": true
   },
   "outputs": [],
   "source": [
    "# Print information about the yaml files that were generated.\n",
    "\n",
    "yfiles = glob(os.path.join(ote_dir, 'jw*yaml'))\n",
    "\n",
    "obs_numbers = [f.split('/')[-1].split('_')[0] for f in yfiles]\n",
    "all_obs_numbers = list(set(obs_numbers))\n",
    "all_obs_numbers.sort()\n",
    "\n",
    "n_obs = len(set([int(number[9:11]) for number in all_obs_numbers]))\n",
    "\n",
    "print('Found {} yaml files.'.format(len(obs_numbers)))\n",
    "print('({} exposures across {} observations)'.format(len(all_obs_numbers), n_obs))\n",
    "# pprint.pprint(all_obs_numbers)"
   ]
  },
  {
   "cell_type": "markdown",
   "metadata": {},
   "source": [
    "# Choose which yaml (visit/tile) to use"
   ]
  },
  {
   "cell_type": "markdown",
   "metadata": {},
   "source": [
    "At the moment, we can only generate one image at a time, so even though we have 135 yaml files in our `ote_dir` directory, we need to choose just one to produce an image. Since each exposure points in a different place, we should choose an exposure that places the target star in the desired detector FOV."
   ]
  },
  {
   "cell_type": "code",
   "execution_count": null,
   "metadata": {
    "scrolled": false
   },
   "outputs": [],
   "source": [
    "# Examine apertures and V2/V3 references for each array/subarray\n",
    "nc_siaf = pysiaf.Siaf('NIRCam')\n",
    "nc_full = nc_siaf['NRCA1_FULL']\n",
    "\n",
    "plt.figure(figsize=(15,10))\n",
    "for apername in sorted(nc_siaf.apernames):\n",
    "    a = apername\n",
    "    if ('_FULL' in a) and ('OSS' not in a) and ('MASK' not in a) and (a[-1] != 'P'):\n",
    "        nc_siaf[a].plot(frame='tel', name_label=a, fill_color='white')\n",
    "plt.gca().invert_xaxis()\n",
    "\n",
    "# Compare V2/V3 of targets (from .pointing file)\n",
    "all_pointings = set([(v2, v3, filename) for v2, v3, filename in zip(yam.info['v2'], \n",
    "                                                                yam.info['v3'], \n",
    "                                                                yam.info['yamlfile'])])\n",
    "\n",
    "print('Example files for each pointing:')\n",
    "print('--------------------------------')\n",
    "plotted_points = []\n",
    "for i_point, (v2, v3, filename) in enumerate(all_pointings):\n",
    "    if (v2, v3) not in plotted_points:\n",
    "        plotted_points.append((v2, v3))\n",
    "        plt.scatter(v2, v3, marker='*', s=500, \n",
    "                    label='Pointing {}/{}'.format(i_point + 1, len(all_pointings)))\n",
    "        print('{}. {}'.format(i_point + 1, filename))\n",
    "\n",
    "plt.legend()\n",
    "\n",
    "plt.show()"
   ]
  },
  {
   "cell_type": "markdown",
   "metadata": {},
   "source": [
    "It looks like pointing number 1 in the A3 detector would be a good choice (the blue star in the green left box). So, looking at the printed output, we want to use the yaml called \"jw01140005001_0112n_00001_nrca3.yaml\".\n",
    "\n",
    "Note: as described on [JDox](https://jwst-docs.stsci.edu/display/JDAT/File+Naming+Conventions+and+Data+Products), the yaml files are named like so:\n",
    "\n",
    "`jw<PPPPP><OOO><VVV>_<GGSAA>_<EEEEE>_<detector>.yaml`\n",
    "\n",
    "where:\n",
    "* P = proposal number\n",
    "* O = observation number\n",
    "* V = visit number\n",
    "* G = Visit Group\n",
    "* S = Parallel Sequence id (1 prime, 2-5 parallel)\n",
    "* A = Activity number (base 36)\n",
    "* E = exposure number\n",
    "\n",
    "So `jw01140005001_0112n_00001_nrca3.yaml` would be the first visit in the fifth observation of APT proposal 1140, exposure 1, taken with the A3 detector."
   ]
  },
  {
   "cell_type": "code",
   "execution_count": null,
   "metadata": {},
   "outputs": [],
   "source": [
    "file_name_to_match = 'jw01140004001'\n",
    "yaml_to_sim = [y for y in yfiles if file_name_to_match in y][2]\n",
    "# yaml_to_sim = os.path.join(ote_dir, 'jw01140005001_0112f_00001_nrca3.yaml')\n",
    "print(yaml_to_sim)"
   ]
  },
  {
   "cell_type": "markdown",
   "metadata": {},
   "source": [
    "# Run simulation"
   ]
  },
  {
   "cell_type": "code",
   "execution_count": null,
   "metadata": {},
   "outputs": [],
   "source": [
    "def make_sim(paramfile):\n",
    "    # Create seed image\n",
    "    cat = catalog_seed_image.Catalog_seed()\n",
    "    cat.paramfile = paramfile\n",
    "    cat.make_seed()\n",
    "    print('- - - - - - - - - - SEED IMAGE CREATED - - - - - - - - - -')\n",
    "    \n",
    "    # Prepare dark current exposure\n",
    "    d = dark_prep.DarkPrep()\n",
    "    d.paramfile = paramfile\n",
    "    d.prepare()\n",
    "    print('- - - - - - - DARK CURRENT EXPOSURE CREATED - - - - - - -')\n",
    "    \n",
    "    # Combine into final observation\n",
    "    obs = obs_generator.Observation()\n",
    "    obs.linDark = d.prepDark\n",
    "    obs.seed = cat.seedimage\n",
    "    obs.segmap = cat.seed_segmap\n",
    "    obs.seedheader = cat.seedinfo\n",
    "    obs.paramfile = paramfile\n",
    "    final_file = obs.create()\n",
    "    print('- - - - - - FINAL SIMULATED EXPOSURE CREATED - - - - - -')\n",
    "    \n",
    "    return cat, d, obs, final_file"
   ]
  },
  {
   "cell_type": "markdown",
   "metadata": {},
   "source": [
    "(We call the different parts of the simulator individually here for transparency's sake, but the `make_sim()` function is basically replicated by `mirage.imaging_simulator"
   ]
  },
  {
   "cell_type": "code",
   "execution_count": null,
   "metadata": {},
   "outputs": [],
   "source": [
    "cat = catalog_seed_image.Catalog_seed()\n",
    "cat.paramfile = yaml_to_sim\n",
    "cat.make_seed()"
   ]
  },
  {
   "cell_type": "code",
   "execution_count": null,
   "metadata": {},
   "outputs": [],
   "source": [
    "# Plot seed image\n",
    "show(cat.seedimage, 'title', max=10)"
   ]
  },
  {
   "cell_type": "code",
   "execution_count": null,
   "metadata": {
    "scrolled": false
   },
   "outputs": [],
   "source": [
    "# Make simulated image\n",
    "yaml_in = os.path.join(ote_dir, yaml_to_sim)\n",
    "cat, d, obs, final_file = make_sim(yaml_in)"
   ]
  },
  {
   "cell_type": "markdown",
   "metadata": {},
   "source": [
    "# Examine simulation output"
   ]
  },
  {
   "cell_type": "code",
   "execution_count": null,
   "metadata": {},
   "outputs": [],
   "source": [
    "def show(array,title,min=0,max=1000):\n",
    "    plt.figure(figsize=(12,12))\n",
    "    plt.imshow(array,clim=(min,max))\n",
    "    plt.title(title)\n",
    "    plt.colorbar(fraction=0.046, pad=0.04).set_label('DN$^{-}$/s')\n",
    "    plt.show()"
   ]
  },
  {
   "cell_type": "code",
   "execution_count": null,
   "metadata": {
    "scrolled": false
   },
   "outputs": [],
   "source": [
    "# Determine which FITS file to use\n",
    "basename = os.path.split(yaml_in)[-1].split('.')[0]\n",
    "linfile = os.path.join(ote_dir, basename + '_linear.fits')\n",
    "print('Using ', linfile)\n",
    "\n",
    "det = linfile.split('_')[-3]\n",
    "filt = linfile.split('_')[-2]\n",
    "\n",
    "# Plot seed image\n",
    "show(cat.seedimage, 'Seed Image - NIRCam {} - {}'.format(det, filt), max=10)\n",
    "\n",
    "# Plot dark current image\n",
    "exptime = d.linDark.header['NGROUPS'] * cat.frametime\n",
    "diff = (d.linDark.data[0,-1,:,:] - d.linDark.data[0,0,:,:]) / exptime\n",
    "show(diff, 'Dark Current Countrate - NIRCam {} - {}'.format(det, filt), max=1)\n",
    "\n",
    "# Plot final simulated image (get most recent linear.fits file)\n",
    "with fits.open(linfile) as h:\n",
    "    lindata = h[1].data\n",
    "    header = h[0].header\n",
    "exptime = header['EFFINTTM']\n",
    "diffdata = (lindata[0, -1] - lindata[0, 0]) / exptime\n",
    "\n",
    "show(diffdata, 'Simulated Data - NIRCam {} - {}'.format(det, filt), max=10) "
   ]
  },
  {
   "cell_type": "code",
   "execution_count": null,
   "metadata": {},
   "outputs": [],
   "source": []
  },
  {
   "cell_type": "code",
   "execution_count": null,
   "metadata": {},
   "outputs": [],
   "source": []
  },
  {
   "cell_type": "code",
   "execution_count": null,
   "metadata": {},
   "outputs": [],
   "source": []
  }
 ],
 "metadata": {
  "kernelspec": {
   "display_name": "Python 3",
   "language": "python",
   "name": "python3"
  },
  "language_info": {
   "codemirror_mode": {
    "name": "ipython",
    "version": 3
   },
   "file_extension": ".py",
   "mimetype": "text/x-python",
   "name": "python",
   "nbconvert_exporter": "python",
   "pygments_lexer": "ipython3",
   "version": "3.6.6"
  }
 },
 "nbformat": 4,
 "nbformat_minor": 2
}
