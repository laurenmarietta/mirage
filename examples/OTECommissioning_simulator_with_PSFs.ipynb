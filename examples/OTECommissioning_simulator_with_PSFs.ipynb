{
 "cells": [
  {
   "cell_type": "code",
   "execution_count": null,
   "metadata": {},
   "outputs": [],
   "source": [
    "# Standard Library Imports\n",
    "import os\n",
    "import re\n",
    "import time\n",
    "import multiprocessing\n",
    "\n",
    "# Third Party Imports\n",
    "import pprint\n",
    "from glob import glob\n",
    "import numpy as np\n",
    "import webbpsf\n",
    "from astropy.io import fits\n",
    "from astropy.io import ascii as asc\n",
    "import matplotlib.pyplot as plt\n",
    "\n",
    "# Local Imports (from nircam_simulator package)\n",
    "from mirage import imaging_simulator\n",
    "from mirage.seed_image import catalog_seed_image\n",
    "from mirage.dark import dark_prep\n",
    "from mirage.ramp_generator import obs_generator\n",
    "from mirage.apt import apt_inputs\n",
    "from mirage.yaml import yaml_generator, write_observationlist\n",
    "from mirage.catalogs import get_catalog\n",
    "from mirage.psf import psf_library\n",
    "\n",
    "# View matplotlib plots inline\n",
    "%matplotlib inline"
   ]
  },
  {
   "cell_type": "markdown",
   "metadata": {},
   "source": [
    "# First, generate (fake) PSF library files"
   ]
  },
  {
   "cell_type": "markdown",
   "metadata": {},
   "source": [
    "Let's simulate Image Array 1 (OTE-06).\n",
    "It has 6 observations:\n",
    "- The first 5 observations are WFSC Commissioning observations, that each include 18 WFC groups. (18 sets of image-move-image. Right?)\n",
    "- The last observation is simply NIRCam imaging to see how we did.\n",
    "\n",
    "So I will need 5 x 18 = 90 distinct PSF library files. "
   ]
  },
  {
   "cell_type": "markdown",
   "metadata": {},
   "source": [
    "### Define location of APT files and catalogs"
   ]
  },
  {
   "cell_type": "code",
   "execution_count": null,
   "metadata": {},
   "outputs": [],
   "source": [
    "prop_id = 1140\n",
    "\n",
    "# Change if you put your files somewhere else\n",
    "ote_dir = '/Users/lchambers/TEL/mirage/OTECommissioning/OTE06'\n",
    "\n",
    "# Change if you named your files differently.\n",
    "root = 'OTE06-{}_withPSFs'.format(prop_id)\n",
    "\n",
    "pointing_file = os.path.join(ote_dir, 'OTE06-1140.pointing')\n",
    "xml_file = os.path.join(ote_dir, 'OTE06-1140.xml')"
   ]
  },
  {
   "cell_type": "code",
   "execution_count": null,
   "metadata": {},
   "outputs": [],
   "source": [
    "# Get SW and LW catalogs\n",
    "cats = get_catalog.get_all_catalogs(pointing_file, prop_id)\n",
    "target_coords, catalog_filenames_sw, catalog_filenames_lw = cats"
   ]
  },
  {
   "cell_type": "markdown",
   "metadata": {},
   "source": [
    "### Get the observation/visit information from the APT files"
   ]
  },
  {
   "cell_type": "code",
   "execution_count": null,
   "metadata": {
    "scrolled": false
   },
   "outputs": [],
   "source": [
    "# Get the information from the pointing file\n",
    "apt_prop = apt_inputs.AptInput()\n",
    "pointing_tab = apt_prop.get_pointing_info(pointing_file, '1140')"
   ]
  },
  {
   "cell_type": "code",
   "execution_count": null,
   "metadata": {},
   "outputs": [],
   "source": [
    "# Create dictionary that mirrors the program structure\n",
    "\n",
    "program_structure = {}\n",
    "for visit_id in pointing_tab['visit_id']:\n",
    "    visit_num = visit_id[4:7]\n",
    "    obs_num = visit_id[7:]\n",
    "    \n",
    "    obs_key = 'Observation{}'.format(obs_num)\n",
    "    visit_key = 'Visit{}'.format(visit_num)\n",
    "    \n",
    "    program_structure.setdefault(obs_key, {})\n",
    "    visit_dict = program_structure[obs_key].setdefault(visit_key, []).append('Exposure')                                                                      \n",
    "    \n",
    "# pprint.pprint(program_structure)  "
   ]
  },
  {
   "cell_type": "code",
   "execution_count": null,
   "metadata": {},
   "outputs": [],
   "source": [
    "# Create directory structure based on dictionary\n",
    "library_root_dir = '/Users/lchambers/TEL/mirage/test_library/'\n",
    "\n",
    "program_dir = os.path.join(library_root_dir, 'OTE06-1140')\n",
    "for observation in program_structure.keys():\n",
    "    for visit in program_structure[observation].keys():\n",
    "        visit_dir = os.path.join(program_dir, observation, visit)\n",
    "        if not os.path.exists(visit_dir):\n",
    "            os.makedirs(visit_dir)"
   ]
  },
  {
   "cell_type": "markdown",
   "metadata": {},
   "source": [
    "## Generate the original PSF array"
   ]
  },
  {
   "cell_type": "code",
   "execution_count": null,
   "metadata": {},
   "outputs": [],
   "source": [
    "# Generate original PSF\n",
    "\n",
    "# Let's go for a global alignment-esque thing, with the image array and random pistons.\n",
    "nc = webbpsf.NIRCam()\n",
    "nc, ote = webbpsf.enable_adjustable_ote(nc)\n",
    "\n",
    "# Set up the array\n",
    "webbpsf.opds.setup_image_array(ote, reset=True, verbose=False, size='large', )\n",
    "\n",
    "# Add random pistons\n",
    "random_pistons = np.random.randn(18)*500  # substantial coarse phasing erorrs. \n",
    "for i, seg in enumerate(ote.segnames[0:18]):  # don't piston \"segment 19\" the SM\n",
    "    ote.move_seg_local(seg, piston=random_pistons[i])\n"
   ]
  },
  {
   "cell_type": "code",
   "execution_count": null,
   "metadata": {},
   "outputs": [],
   "source": [
    "original_psf = nc.calc_psf(monochromatic=2e-6, oversample=1, fov_pixels=2048, display=True)"
   ]
  },
  {
   "cell_type": "markdown",
   "metadata": {},
   "source": [
    "## Make slightly different PSFs for every exposure"
   ]
  },
  {
   "cell_type": "code",
   "execution_count": null,
   "metadata": {},
   "outputs": [],
   "source": [
    "def create_lib_for_random_ote(i):\n",
    "    start_time = time.time()\n",
    "    obs = 'Observation{}'.format(pointing_tab['obs_num'][i])\n",
    "    visit = 'Visit{}'.format(pointing_tab['visit_num'][i])\n",
    "    visit_dir = os.path.join(program_dir, obs, visit)\n",
    "    \n",
    "    print('Calculating PSF for obs {}, visit {}, exposure {}'\n",
    "          .format(pointing_tab['obs_num'][i], pointing_tab['visit_num'][i], i + 1))\n",
    "\n",
    "    i_seg = random_segments[i]\n",
    "    ote.move_seg_local(ote.segnames[i_seg], piston = random_pistons[i])\n",
    "\n",
    "    library_filename = 'nircam_f212n_fovp2048_samp1_npsf1_exp{}.fits'.format(i + 1)\n",
    "    c = psf_library.CreatePSFLibrary('NIRCam', filters='F212N', detectors='NRCA3', \n",
    "                                     fov_pixels=2048, oversample=1, num_psfs=1, \n",
    "                                     fileloc=visit_dir, filename=library_filename,\n",
    "                                     pupil_opd=ote)\n",
    "    c.create_files()\n",
    "    \n",
    "    print('Elapsed time: {}\\n'.format(time.time() - start_time))"
   ]
  },
  {
   "cell_type": "code",
   "execution_count": null,
   "metadata": {},
   "outputs": [],
   "source": [
    "# Define a beep noise\n",
    "beep = lambda x: os.system(\"echo -n '\\a';sleep 0.2;\" * x)"
   ]
  },
  {
   "cell_type": "code",
   "execution_count": null,
   "metadata": {},
   "outputs": [],
   "source": [
    "# Determine how many cores I have\n",
    "multiprocessing.cpu_count()"
   ]
  },
  {
   "cell_type": "code",
   "execution_count": null,
   "metadata": {
    "scrolled": false
   },
   "outputs": [],
   "source": [
    "# Generate PSF library files for each exposure:\n",
    "n_exposures = len(pointing_tab['visit_id'])\n",
    "\n",
    "random_segments = np.random.randint(0, 17, n_exposures)\n",
    "random_pistons = np.random.randn(n_exposures)*500\n",
    "\n",
    "# for i in range(n_exposures):\n",
    "#     create_lib_for_random_ote(i)\n",
    "\n",
    "# p = Pool(8)\n",
    "# p.map(create_lib_for_random_ote, range(n_exposures))\n",
    "create_lib_for_random_ote(0)\n",
    "    \n",
    "beep(10)"
   ]
  },
  {
   "cell_type": "code",
   "execution_count": null,
   "metadata": {},
   "outputs": [],
   "source": [
    "# Generate PSF library files!\n",
    "hdu = fits.PrimaryHDU()\n",
    "hdu.data = ote.opd\n",
    "hdu.header['BUNIT'] = 'meter'\n",
    "opd_fits = fits.HDUList(hdu)\n",
    "\n",
    "c = psf_library.CreatePSFLibrary('NIRCam', filters='F212N', detectors='NRCA3', \n",
    "                                 fov_pixels=2048, oversample=1, num_psfs=1, \n",
    "                                 fileloc=library_root_dir, pupil_opd=opd_fits)\n",
    "c.create_files()"
   ]
  },
  {
   "cell_type": "code",
   "execution_count": null,
   "metadata": {},
   "outputs": [],
   "source": [
    "p = Pool(8)\n",
    "p.map(create_lib_for_random_ote, range(n_exposures))"
   ]
  },
  {
   "cell_type": "code",
   "execution_count": null,
   "metadata": {},
   "outputs": [],
   "source": []
  }
 ],
 "metadata": {
  "kernelspec": {
   "display_name": "Python 3",
   "language": "python",
   "name": "python3"
  },
  "language_info": {
   "codemirror_mode": {
    "name": "ipython",
    "version": 3
   },
   "file_extension": ".py",
   "mimetype": "text/x-python",
   "name": "python",
   "nbconvert_exporter": "python",
   "pygments_lexer": "ipython3",
   "version": "3.5.5"
  }
 },
 "nbformat": 4,
 "nbformat_minor": 2
}
